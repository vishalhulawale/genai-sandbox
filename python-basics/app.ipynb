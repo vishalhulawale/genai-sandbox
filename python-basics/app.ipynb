{
 "cells": [
  {
   "cell_type": "markdown",
   "id": "e23ab8e8",
   "metadata": {},
   "source": [
    "### Test basic code"
   ]
  },
  {
   "cell_type": "code",
   "execution_count": 3,
   "id": "803862ab",
   "metadata": {},
   "outputs": [
    {
     "name": "stdout",
     "output_type": "stream",
     "text": [
      "Hello, World!\n"
     ]
    }
   ],
   "source": [
    "print(\"Hello, World!\") "
   ]
  }
 ],
 "metadata": {
  "kernelspec": {
   "display_name": "Python 3",
   "language": "python",
   "name": "python3"
  },
  "language_info": {
   "codemirror_mode": {
    "name": "ipython",
    "version": 3
   },
   "file_extension": ".py",
   "mimetype": "text/x-python",
   "name": "python",
   "nbconvert_exporter": "python",
   "pygments_lexer": "ipython3",
   "version": "3.12.11"
  }
 },
 "nbformat": 4,
 "nbformat_minor": 5
}
