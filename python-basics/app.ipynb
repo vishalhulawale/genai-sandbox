{
 "cells": [
  {
   "cell_type": "code",
   "execution_count": 3,
   "id": "a54b9461",
   "metadata": {},
   "outputs": [
    {
     "name": "stdout",
     "output_type": "stream",
     "text": [
      "This is true\n",
      "This is the end of the script\n"
     ]
    }
   ],
   "source": [
    "# Conditional Statements Example\n",
    "\n",
    "if True:\n",
    "    print(\"This is true\")\n",
    "\n",
    "    if False:\n",
    "        print(\"This is false\")\n",
    "print(\"This is the end of the script\")"
   ]
  },
  {
   "cell_type": "code",
   "execution_count": 4,
   "id": "86527374",
   "metadata": {},
   "outputs": [
    {
     "name": "stdout",
     "output_type": "stream",
     "text": [
      "<class 'int'>\n",
      "<class 'str'>\n",
      "<class 'str'>\n",
      "<class 'int'>\n",
      "<class 'float'>\n"
     ]
    }
   ],
   "source": [
    "# Type checking and conversion\n",
    "value = 10\n",
    "print(type(value))  # Should print <class 'int'>\n",
    "\n",
    "# Type conversion example\n",
    "value_str = str(value)  # Convert integer to string\n",
    "print(type(value_str))  # Should print <class 'str'>\n",
    "\n",
    "\n",
    "string=\"25\"\n",
    "print(type(string))  # Should print <class 'str'>\n",
    "str_value = int(string)  # Convert string to integer\n",
    "print(type(str_value))  # Should print <class 'int'>\n",
    "\n",
    "height = 5.9\n",
    "print(type(height))  # Should print <class 'float'>"
   ]
  },
  {
   "cell_type": "code",
   "execution_count": 5,
   "id": "eaa4429c",
   "metadata": {},
   "outputs": [
    {
     "name": "stdout",
     "output_type": "stream",
     "text": [
      "Your age is: \n"
     ]
    }
   ],
   "source": [
    "# Input and Output Example\n",
    "\n",
    "age=input(\"Enter your age: \")\n",
    "print(f\"Your age is: {age}\")  # Prints the age entered by the user"
   ]
  },
  {
   "cell_type": "code",
   "execution_count": 6,
   "id": "468a832b",
   "metadata": {},
   "outputs": [
    {
     "name": "stdout",
     "output_type": "stream",
     "text": [
      "Age: 30\n",
      "<class 'int'>\n",
      "Height: 5.9\n",
      "<class 'float'>\n",
      "Name: Alice\n",
      "<class 'str'>\n",
      "Is student: True\n",
      "<class 'bool'>\n",
      "Fruits: ['apple', 'banana', 'cherry']\n",
      "<class 'list'>\n",
      "Person: {'name': 'Alice', 'age': 30, 'is_student': True}\n",
      "<class 'dict'>\n",
      "Coordinates: (10.0, 20.0)\n",
      "<class 'tuple'>\n"
     ]
    }
   ],
   "source": [
    "## Data Types\n",
    "\n",
    "# Integer\n",
    "age = 30\n",
    "print(f\"Age: {age}\")  # Prints the age\n",
    "print(type(age))  # Should print <class 'int'>\n",
    "\n",
    "# Float\n",
    "height = 5.9\n",
    "print(f\"Height: {height}\")  # Prints the height\n",
    "print(type(height))  # Should print <class 'float'>\n",
    "\n",
    "# String\n",
    "name = \"Alice\"\n",
    "print(f\"Name: {name}\")  # Prints the name\n",
    "print(type(name))  # Should print <class 'str'>\n",
    "\n",
    "# Boolean\n",
    "is_student = True\n",
    "print(f\"Is student: {is_student}\")  # Prints whether the person is a student\n",
    "print(type(is_student))  # Should print <class 'bool'>\n",
    "\n",
    "# List\n",
    "fruits = [\"apple\", \"banana\", \"cherry\"]\n",
    "print(f\"Fruits: {fruits}\")  # Prints the list of fruits\n",
    "print(type(fruits))  # Should print <class 'list'>\n",
    "\n",
    "# Dictionary\n",
    "person = {\n",
    "    \"name\": \"Alice\",\n",
    "    \"age\": 30,\n",
    "    \"is_student\": True\n",
    "}\n",
    "print(f\"Person: {person}\")  # Prints the dictionary\n",
    "print(type(person))  # Should print <class 'dict'>\n",
    "\n",
    "# Tuple\n",
    "coordinates = (10.0, 20.0)\n",
    "print(f\"Coordinates: {coordinates}\")  # Prints the tuple of coordinates\n",
    "print(type(coordinates))  # Should print <class 'tuple'>\n"
   ]
  },
  {
   "cell_type": "code",
   "execution_count": 7,
   "id": "e8d3c2b4",
   "metadata": {},
   "outputs": [
    {
     "name": "stdout",
     "output_type": "stream",
     "text": [
      "Addition: 15\n",
      "Subtraction: 5\n",
      "Multiplication: 50\n",
      "Division: 2.0\n",
      "Modulus: 0\n",
      "Exponentiation: 100000\n",
      "Floor Division: 2\n",
      "Is a equal to b? False\n",
      "Is a not equal to b? True\n",
      "Is a greater than b? True\n",
      "Is a less than b? False\n",
      "Is a greater than or equal to b? True\n",
      "Is a less than or equal to b? False\n",
      "Is a greater than 5 and b less than 10? True\n",
      "Is a greater than 15 or b less than 10? True\n",
      "Is a greater than 15 or b greater than 10? False\n",
      "Is not a greater than 15? True\n",
      "Bitwise AND: 0\n",
      "Bitwise OR: 15\n",
      "Bitwise XOR: 15\n",
      "After addition assignment, a: 15\n",
      "After subtraction assignment, b: 3\n",
      "Is 'apple' in fruits? True\n",
      "Is 'orange' not in fruits? True\n",
      "Is a identical to b? False\n",
      "Is a not identical to b? True\n"
     ]
    }
   ],
   "source": [
    "# Operators\n",
    "# Arithmetic Operators\n",
    "a = 10\n",
    "b = 5\n",
    "\n",
    "print(f\"Addition: {a + b}\")  # Prints the sum\n",
    "print(f\"Subtraction: {a - b}\")  # Prints the difference\n",
    "print(f\"Multiplication: {a * b}\")  # Prints the product\n",
    "print(f\"Division: {a / b}\")  # Prints the quotient\n",
    "print(f\"Modulus: {a % b}\")  # Prints the remainder\n",
    "print(f\"Exponentiation: {a ** b}\")  # Prints a raised to the power of b\n",
    "print(f\"Floor Division: {a // b}\")  # Prints the floor division result  \n",
    "\n",
    "# Comparison Operators\n",
    "print(f\"Is a equal to b? {a == b}\")  # Checks if a is equal to b\n",
    "print(f\"Is a not equal to b? {a != b}\")  # Checks if a is not equal to b\n",
    "print(f\"Is a greater than b? {a > b}\")  # Checks if a is greater than b\n",
    "print(f\"Is a less than b? {a < b}\")  # Checks if a is less than b\n",
    "print(f\"Is a greater than or equal to b? {a >= b}\")  # Checks if a is greater than or equal to b\n",
    "print(f\"Is a less than or equal to b? {a <= b}\")  # Checks if a is less than or equal to b\n",
    "\n",
    "# Logical Operators\n",
    "print(f\"Is a greater than 5 and b less than 10? {a > 5 and b < 10}\")  # Logical AND\n",
    "print(f\"Is a greater than 15 or b less than 10? {a > 15 or b < 10}\")  # Logical OR\n",
    "print(f\"Is a greater than 15 or b greater than 10? {a > 15 or b > 10}\")  # Logical OR\n",
    "print(f\"Is not a greater than 15? {not a > 15}\")  # Logical NOT\n",
    "\n",
    "# Bitwise Operators\n",
    "print(f\"Bitwise AND: {a & b}\")  # Bitwise AND\n",
    "print(f\"Bitwise OR: {a | b}\")  # Bitwise OR\n",
    "print(f\"Bitwise XOR: {a ^ b}\")  # Bitwise XOR\n",
    "\n",
    "# Assignment Operators\n",
    "a += 5  # Equivalent to a = a + 5\n",
    "print(f\"After addition assignment, a: {a}\")  # Prints the updated value of a\n",
    "b -= 2  # Equivalent to b = b - 2\n",
    "print(f\"After subtraction assignment, b: {b}\")  # Prints the updated value of b\n",
    "\n",
    "# Membership Operators\n",
    "fruits = [\"apple\", \"banana\", \"cherry\"]\n",
    "print(f\"Is 'apple' in fruits? {'apple' in fruits}\")  # Checks if 'apple' is in the list\n",
    "print(f\"Is 'orange' not in fruits? {'orange' not in fruits}\")  # Checks if 'orange' is not in the list\n",
    "\n",
    "# Identity Operators\n",
    "print(f\"Is a identical to b? {a is b}\")  # Checks if a and b are the same object\n",
    "print(f\"Is a not identical to b? {a is not b}\")  # Checks if a and b are not the same object\n"
   ]
  }
 ],
 "metadata": {
  "kernelspec": {
   "display_name": "Python 3",
   "language": "python",
   "name": "python3"
  },
  "language_info": {
   "codemirror_mode": {
    "name": "ipython",
    "version": 3
   },
   "file_extension": ".py",
   "mimetype": "text/x-python",
   "name": "python",
   "nbconvert_exporter": "python",
   "pygments_lexer": "ipython3",
   "version": "3.12.11"
  }
 },
 "nbformat": 4,
 "nbformat_minor": 5
}
