{
 "cells": [
  {
   "cell_type": "code",
   "execution_count": 12,
   "id": "f6171054",
   "metadata": {},
   "outputs": [],
   "source": [
    "import math\n",
    "import random\n",
    "\n",
    "class NeuralNetwork():\n",
    "    def __init__(self):\n",
    "\n",
    "        # Seed the random numbers, so we get the same random numbers each time\n",
    "        random.seed(1)\n",
    "\n",
    "        # Create 3 weights and set them to random values in the range -1 to 1\n",
    "        self.weights = [random.uniform(-1, 1), random.uniform(-1, 1), random.uniform(-1, 1)]\n",
    "\n",
    "    # Make a prediction \n",
    "    def think(self, neuron_inputs):\n",
    "        sum_of_weighted_inputs = self.__sum_of_weighted_inputs(neuron_inputs)\n",
    "        neuron_output = self.__sigmoid(sum_of_weighted_inputs)\n",
    "        return neuron_output\n",
    "\n",
    "    # Adjust the weights of the neural network to minimise the error for the training set\n",
    "    def train(self, training_set_examples, number_of_iterations):\n",
    "        for iteration in range(number_of_iterations):\n",
    "           for training_set_example in training_set_examples:\n",
    "               \n",
    "               # Predict output based on training set example\n",
    "               predicted_output= self.think(training_set_example[\"input\"])\n",
    "\n",
    "               # Calculate the error as the difference between the desired output and predicted output\n",
    "               error_in_output = training_set_example[\"output\"] - predicted_output\n",
    "\n",
    "               # Iterate through the weight and adjust each one\n",
    "               for index in range(len(self.weights)):\n",
    "                   \n",
    "                   # Get the neuron's input associated with this weight\n",
    "                   neuron_input = training_set_example[\"input\"][index]\n",
    "\n",
    "                   # Calculate how much to adjust the weights by using the delta rule (gradient descent)\n",
    "                   adjust_weight = neuron_input * error_in_output * self.__sigmoid_gradient(predicted_output)\n",
    "\n",
    "                   # Adjust the weight\n",
    "                   self.weights[index] += adjust_weight\n",
    "\n",
    "    # Calculate the sigmoid (our activation function)\n",
    "    def __sigmoid(self, sum_of_weighted_inputs):\n",
    "        return 1 / (1 + math.exp(-sum_of_weighted_inputs))\n",
    "\n",
    "    # Calculate the gradient of the sigmoid using it's own output\n",
    "    def __sigmoid_gradient(self, neuron_output):\n",
    "        return neuron_output * (1 - neuron_output)\n",
    "\n",
    "    # Multiply each input by it's own weight, and then sum the total\n",
    "    def __sum_of_weighted_inputs(self, neuron_inputs):\n",
    "        sum_of_weighted_inputs = 0\n",
    "        for index, nueron_input in enumerate(neuron_inputs):\n",
    "            sum_of_weighted_inputs += self.weights[index] * nueron_input\n",
    "        return sum_of_weighted_inputs"
   ]
  },
  {
   "cell_type": "code",
   "execution_count": 18,
   "id": "1ef04b37",
   "metadata": {},
   "outputs": [
    {
     "name": "stdout",
     "output_type": "stream",
     "text": [
      "Random starting weights: [-0.7312715117751976, 0.6948674738744653, 0.5275492379532281]\n",
      "New weights after training: [9.672881904304742, -0.20818131327443068, -4.629370228924396]\n",
      "Predicted value: 0.9999370358392512\n"
     ]
    }
   ],
   "source": [
    "neural_network = NeuralNetwork()\n",
    "\n",
    "print(\"Random starting weights: \" + str(neural_network.weights))\n",
    "\n",
    "training_set_examples = [\n",
    "    {\"input\": [0, 0, 1], \"output\": 0},\n",
    "    {\"input\": [1, 1, 1], \"output\": 1},\n",
    "    {\"input\": [1, 0, 1], \"output\": 1},\n",
    "    {\"input\": [0, 1, 1], \"output\": 0}\n",
    "]\n",
    "\n",
    "# Train neural network using 10000 iterations\n",
    "neural_network.train(training_set_examples, number_of_iterations=10000) \n",
    "\n",
    "print(\"New weights after training: \" + str(neural_network.weights))\n",
    "\n",
    "# Make a prediction for new situation\n",
    "new_situation = [1, 0, 0]\n",
    "prediction = neural_network.think(new_situation)\n",
    "\n",
    "print(\"Predicted value: \"+ str(prediction))"
   ]
  }
 ],
 "metadata": {
  "kernelspec": {
   "display_name": "Python 3",
   "language": "python",
   "name": "python3"
  },
  "language_info": {
   "codemirror_mode": {
    "name": "ipython",
    "version": 3
   },
   "file_extension": ".py",
   "mimetype": "text/x-python",
   "name": "python",
   "nbconvert_exporter": "python",
   "pygments_lexer": "ipython3",
   "version": "3.12.11"
  }
 },
 "nbformat": 4,
 "nbformat_minor": 5
}
